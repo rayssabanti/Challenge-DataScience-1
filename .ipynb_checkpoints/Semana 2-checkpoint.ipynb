{
 "cells": [
  {
   "cell_type": "markdown",
   "id": "cf649d13-1a30-49c2-9bf7-5864dde9710e",
   "metadata": {},
   "source": [
    "## Importando as bibliotecas"
   ]
  },
  {
   "cell_type": "code",
   "execution_count": null,
   "id": "96f5445c-77a4-4d25-bd58-2f136c85aaed",
   "metadata": {},
   "outputs": [],
   "source": [
    "\n",
    "import pandas as pd\n",
    "import seaborn as sns\n",
    "import matplotlib.pyplot as plt\n",
    "\n",
    "pd.set_option('display.max.rows', None,'display.max.columns', None)"
   ]
  },
  {
   "cell_type": "markdown",
   "id": "d719565d-1116-4305-80ae-30048865b4c0",
   "metadata": {},
   "source": [
    "### Importando os dados"
   ]
  },
  {
   "cell_type": "code",
   "execution_count": null,
   "id": "98b01bed-c29c-457a-919c-87abb0d4bda5",
   "metadata": {
    "tags": []
   },
   "outputs": [],
   "source": [
    "dataset = pd.read_csv('Dados\\DadosTelco.csv', sep=';')\n",
    "dataset.head()"
   ]
  },
  {
   "cell_type": "markdown",
   "id": "159b503a-7cec-4779-a346-1fd0aaec2405",
   "metadata": {
    "tags": []
   },
   "source": [
    "### Análise Exploratória"
   ]
  },
  {
   "cell_type": "markdown",
   "id": "1f43e687-f058-4d14-856f-413fb63b2112",
   "metadata": {},
   "source": [
    "Verificando a variável de Churn(cancelouPlano)"
   ]
  },
  {
   "cell_type": "code",
   "execution_count": null,
   "id": "12e94f23-e624-4f64-ad8b-4dce4140a31c",
   "metadata": {
    "tags": []
   },
   "outputs": [],
   "source": [
    "sns.countplot(x='cancelouPlano', data=dataset)"
   ]
  },
  {
   "cell_type": "markdown",
   "id": "4bafbf99-c132-4c81-8596-83af509a3a88",
   "metadata": {},
   "source": [
    "Verificando a relação da variável de Churn com as outras variáveis"
   ]
  },
  {
   "cell_type": "markdown",
   "id": "894816ff-4284-42c9-bc00-7950dde88dc0",
   "metadata": {},
   "source": [
    " ### Correlação com as outras variáveis"
   ]
  },
  {
   "cell_type": "markdown",
   "id": "e53efe3b-4462-4c4e-aaf6-cee09fe337dd",
   "metadata": {
    "jp-MarkdownHeadingCollapsed": true,
    "tags": []
   },
   "source": [
    "##### Correlação com Gênero (não existe correlação) "
   ]
  },
  {
   "cell_type": "code",
   "execution_count": null,
   "id": "43eb7b68-6847-4fdf-a7a6-46c2ac8cc8fa",
   "metadata": {},
   "outputs": [],
   "source": [
    "sns.set_theme(style=\"darkgrid\")\n",
    "fig, axs = plt.subplots(figsize=[8,5])\n",
    "\n",
    "ax = sns.countplot(x='genero', hue='cancelouPlano', data=dataset)\n",
    "ax.set_title('Distribuição da variável genero com cancelouPlano', fontsize=15)\n",
    "for p in ax.patches:\n",
    "    ax.annotate(f'\\n{p.get_height()}', (p.get_x()+0.2, p.get_height()), ha='center', va='top', color='white', size=12)\n",
    "plt.show()"
   ]
  },
  {
   "cell_type": "markdown",
   "id": "3cf86732-31fd-480c-b054-5711e9e6fd22",
   "metadata": {
    "jp-MarkdownHeadingCollapsed": true,
    "tags": []
   },
   "source": [
    "##### Correlação com cidadaoIdoso (A proporção de clientes idosos que cancelam os serviços é bem  grande) "
   ]
  },
  {
   "cell_type": "code",
   "execution_count": null,
   "id": "2ac154fa-0ece-4a23-b46d-e2b849235915",
   "metadata": {},
   "outputs": [],
   "source": [
    "ax =  sns.countplot(x='cidadaoIdoso', hue='cancelouPlano', data=dataset)\n",
    "ax.set_title('Distribuição da variável cidadaoIdoso com cancelouPlano', fontsize=15)\n",
    "for p in ax.patches:\n",
    "    ax.annotate(f'\\n{p.get_height()}', (p.get_x()+0.2, p.get_height()), ha='center', va='top', color='white', size=12)\n",
    "plt.show()"
   ]
  },
  {
   "cell_type": "markdown",
   "id": "8e2ff5f4-b531-490c-a47b-b528f920f54a",
   "metadata": {
    "tags": []
   },
   "source": [
    "##### Correlação com provedorInternet (A proporção de clientes com fibra ótica que cancelaram é bem grande) "
   ]
  },
  {
   "cell_type": "code",
   "execution_count": null,
   "id": "eafdb62f-7159-475b-994a-d4c3617793c2",
   "metadata": {},
   "outputs": [],
   "source": [
    "ax = sns.countplot(x= 'provedorInternet', hue='cancelouPlano', data=dataset)\n",
    "ax.set_title('Distribuição da variável provedorInternet com cancelouPlano', fontsize=15)\n",
    "for p in ax.patches:\n",
    "    ax.annotate(f'\\n{p.get_height()}', (p.get_x()+0.2, p.get_height()), ha='center', va='top', color='white', size=12)\n",
    "plt.show()"
   ]
  },
  {
   "cell_type": "markdown",
   "id": "2338f761-9d6d-4a2e-90fd-80e0ef2738b7",
   "metadata": {},
   "source": [
    "##### Correlação com segurancaOnline, backup online, protecaoDispositivo"
   ]
  },
  {
   "cell_type": "code",
   "execution_count": null,
   "id": "03f9807c-73e0-4bfa-b567-782228c4d6cd",
   "metadata": {
    "tags": []
   },
   "outputs": [],
   "source": [
    "fig, axs = plt.subplots(ncols=3, nrows=6, figsize=[30,25])\n",
    "axs = axs.flatten()\n",
    "i=0\n",
    "for column in dataset.columns:\n",
    "    sns.countplot(x=column, hue='cancelouPlano', data=dataset, ax=axs[i])\n",
    "    i = i + 1\n",
    "  \n"
   ]
  },
  {
   "cell_type": "code",
   "execution_count": null,
   "id": "3c6f28e2-d059-4cd8-933f-46f289bccce4",
   "metadata": {},
   "outputs": [],
   "source": [
    "dataset.iloc[:10]"
   ]
  }
 ],
 "metadata": {
  "kernelspec": {
   "display_name": "Python 3 (ipykernel)",
   "language": "python",
   "name": "python3"
  },
  "language_info": {
   "codemirror_mode": {
    "name": "ipython",
    "version": 3
   },
   "file_extension": ".py",
   "mimetype": "text/x-python",
   "name": "python",
   "nbconvert_exporter": "python",
   "pygments_lexer": "ipython3",
   "version": "3.9.7"
  }
 },
 "nbformat": 4,
 "nbformat_minor": 5
}
